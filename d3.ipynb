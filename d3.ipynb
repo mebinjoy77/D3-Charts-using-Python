{
 "cells": [
  {
   "cell_type": "markdown",
   "source": [
    "# Installing D3 Blocks"
   ],
   "metadata": {}
  },
  {
   "cell_type": "code",
   "execution_count": null,
   "source": [
    "!pip install d3blocks"
   ],
   "outputs": [],
   "metadata": {}
  },
  {
   "cell_type": "markdown",
   "source": [
    "# Importing the library and creating the sample plot."
   ],
   "metadata": {}
  },
  {
   "cell_type": "code",
   "execution_count": 2,
   "source": [
    "from d3blocks import D3Blocks\r\n",
    "\r\n",
    "d3 = D3Blocks()"
   ],
   "outputs": [
    {
     "output_type": "stream",
     "name": "stderr",
     "text": [
      "[d3blocks] >INFO> Cleaning edge_properties and config parameters..\n"
     ]
    }
   ],
   "metadata": {}
  },
  {
   "cell_type": "markdown",
   "source": [
    "# Importing Sample Data"
   ],
   "metadata": {}
  },
  {
   "cell_type": "code",
   "execution_count": 3,
   "source": [
    "df = d3.import_example('energy')\r\n",
    "df"
   ],
   "outputs": [
    {
     "output_type": "stream",
     "name": "stderr",
     "text": [
      "[d3blocks] >INFO> Downloading [energy] dataset from github source..\n",
      "[d3blocks] >INFO> Extracting files..\n",
      "[d3blocks] >INFO> Import dataset: [energy]\n"
     ]
    },
    {
     "output_type": "execute_result",
     "data": {
      "text/html": [
       "<div>\n",
       "<style scoped>\n",
       "    .dataframe tbody tr th:only-of-type {\n",
       "        vertical-align: middle;\n",
       "    }\n",
       "\n",
       "    .dataframe tbody tr th {\n",
       "        vertical-align: top;\n",
       "    }\n",
       "\n",
       "    .dataframe thead th {\n",
       "        text-align: right;\n",
       "    }\n",
       "</style>\n",
       "<table border=\"1\" class=\"dataframe\">\n",
       "  <thead>\n",
       "    <tr style=\"text-align: right;\">\n",
       "      <th></th>\n",
       "      <th>source</th>\n",
       "      <th>target</th>\n",
       "      <th>weight</th>\n",
       "    </tr>\n",
       "  </thead>\n",
       "  <tbody>\n",
       "    <tr>\n",
       "      <th>0</th>\n",
       "      <td>Agricultural 'waste'</td>\n",
       "      <td>Bio-conversion</td>\n",
       "      <td>124.729</td>\n",
       "    </tr>\n",
       "    <tr>\n",
       "      <th>1</th>\n",
       "      <td>Bio-conversion</td>\n",
       "      <td>Liquid</td>\n",
       "      <td>0.597</td>\n",
       "    </tr>\n",
       "    <tr>\n",
       "      <th>2</th>\n",
       "      <td>Bio-conversion</td>\n",
       "      <td>Losses</td>\n",
       "      <td>26.862</td>\n",
       "    </tr>\n",
       "    <tr>\n",
       "      <th>3</th>\n",
       "      <td>Bio-conversion</td>\n",
       "      <td>Solid</td>\n",
       "      <td>280.322</td>\n",
       "    </tr>\n",
       "    <tr>\n",
       "      <th>4</th>\n",
       "      <td>Bio-conversion</td>\n",
       "      <td>Gas</td>\n",
       "      <td>81.144</td>\n",
       "    </tr>\n",
       "    <tr>\n",
       "      <th>...</th>\n",
       "      <td>...</td>\n",
       "      <td>...</td>\n",
       "      <td>...</td>\n",
       "    </tr>\n",
       "    <tr>\n",
       "      <th>63</th>\n",
       "      <td>Thermal generation</td>\n",
       "      <td>District heating</td>\n",
       "      <td>79.329</td>\n",
       "    </tr>\n",
       "    <tr>\n",
       "      <th>64</th>\n",
       "      <td>Tidal</td>\n",
       "      <td>Electricity grid</td>\n",
       "      <td>9.452</td>\n",
       "    </tr>\n",
       "    <tr>\n",
       "      <th>65</th>\n",
       "      <td>UK land based bioenergy</td>\n",
       "      <td>Bio-conversion</td>\n",
       "      <td>182.010</td>\n",
       "    </tr>\n",
       "    <tr>\n",
       "      <th>66</th>\n",
       "      <td>Wave</td>\n",
       "      <td>Electricity grid</td>\n",
       "      <td>19.013</td>\n",
       "    </tr>\n",
       "    <tr>\n",
       "      <th>67</th>\n",
       "      <td>Wind</td>\n",
       "      <td>Electricity grid</td>\n",
       "      <td>289.366</td>\n",
       "    </tr>\n",
       "  </tbody>\n",
       "</table>\n",
       "<p>68 rows × 3 columns</p>\n",
       "</div>"
      ],
      "text/plain": [
       "                     source            target   weight\n",
       "0      Agricultural 'waste'    Bio-conversion  124.729\n",
       "1            Bio-conversion            Liquid    0.597\n",
       "2            Bio-conversion            Losses   26.862\n",
       "3            Bio-conversion             Solid  280.322\n",
       "4            Bio-conversion               Gas   81.144\n",
       "..                      ...               ...      ...\n",
       "63       Thermal generation  District heating   79.329\n",
       "64                    Tidal  Electricity grid    9.452\n",
       "65  UK land based bioenergy    Bio-conversion  182.010\n",
       "66                     Wave  Electricity grid   19.013\n",
       "67                     Wind  Electricity grid  289.366\n",
       "\n",
       "[68 rows x 3 columns]"
      ]
     },
     "metadata": {},
     "execution_count": 3
    }
   ],
   "metadata": {}
  },
  {
   "cell_type": "markdown",
   "source": [
    "# Plotting Network Graph"
   ],
   "metadata": {}
  },
  {
   "cell_type": "code",
   "execution_count": 4,
   "source": [
    "d3.d3graph(df, showfig=False)\r\n",
    "\r\n",
    "# Color node on clustering\r\n",
    "d3.D3graph.set_node_properties(color='cluster')\r\n",
    "\r\n",
    "# Make adjustments to the node: Thermal_generation\r\n",
    "d3.D3graph.node_properties['Thermal_generation']['size']=20\r\n",
    "d3.D3graph.node_properties['Thermal_generation']['edge_color']='#000fff' # Blue node edge\r\n",
    "d3.D3graph.node_properties['Thermal_generation']['edge_size']=3 # Node-edge Size\r\n",
    "\r\n",
    "# Make adjustments to the edge: 'Solar', 'Solar_Thermal'\r\n",
    "d3.D3graph.edge_properties['Solar', 'Solar_Thermal']['color']='#000fff'\r\n",
    "d3.D3graph.edge_properties['Solar', 'Solar_Thermal']['weight_scaled']=10\r\n",
    "\r\n",
    "# Show the network graph\r\n",
    "d3.D3graph.show()"
   ],
   "outputs": [
    {
     "output_type": "stream",
     "name": "stderr",
     "text": [
      "[d3blocks] >INFO> NumExpr defaulting to 8 threads.\n",
      "[d3blocks] >INFO> Set directed=True to see the markers!\n",
      "[d3blocks] >INFO> Keep only edges with weight>0\n",
      "[d3blocks] >INFO> Number of unique nodes: 48\n",
      "[d3blocks] >INFO> Slider range is set to [0, 840]\n",
      "[d3blocks] >INFO> Write to path: [C:\\Users\\mebin\\AppData\\Local\\Temp\\tmpz_s3_kvk\\d3graph.html]\n",
      "[d3blocks] >INFO> File already exists and will be overwritten: [C:\\Users\\mebin\\AppData\\Local\\Temp\\tmpz_s3_kvk\\d3graph.html]\n",
      "[d3blocks] >INFO> Number of unique nodes: 48\n",
      "[d3blocks] >INFO> Slider range is set to [0, 840]\n",
      "[d3blocks] >INFO> Write to path: [C:\\Users\\mebin\\AppData\\Local\\Temp\\tmp6un2w7ie\\d3graph.html]\n",
      "[d3blocks] >INFO> File already exists and will be overwritten: [C:\\Users\\mebin\\AppData\\Local\\Temp\\tmp6un2w7ie\\d3graph.html]\n"
     ]
    }
   ],
   "metadata": {}
  },
  {
   "cell_type": "markdown",
   "source": [
    "# Sankey Graph"
   ],
   "metadata": {}
  },
  {
   "cell_type": "code",
   "execution_count": 6,
   "source": [
    "# Initialize\r\n",
    "d3 = D3Blocks()\r\n",
    "\r\n",
    "# Import example\r\n",
    "df = d3.import_example('energy')\r\n",
    "\r\n",
    "# Link settings\r\n",
    "d3.sankey(df, link={\"color\": \"source-target\"})"
   ],
   "outputs": [
    {
     "output_type": "stream",
     "name": "stderr",
     "text": [
      "[d3blocks] >INFO> Cleaning edge_properties and config parameters..\n",
      "[d3blocks] >INFO> Extracting files..\n",
      "[d3blocks] >INFO> Import dataset: [energy]\n",
      "[d3blocks] >INFO> Cleaning edge_properties and config parameters..\n",
      "[d3blocks] >INFO> Initializing [Sankey]\n",
      "[d3blocks] >INFO> filepath is set to [C:\\Users\\mebin\\AppData\\Local\\Temp\\d3blocks\\sankey.html]\n",
      "[d3blocks] >INFO> Convert to Frame.\n",
      "[d3blocks] >INFO> Node properties are set.\n",
      "[d3blocks] >INFO> Edge properties are set.\n",
      "[d3blocks] >INFO> File already exists and will be overwritten: [C:\\Users\\mebin\\AppData\\Local\\Temp\\d3blocks\\sankey.html]\n",
      "[d3blocks] >INFO> Open browser: C:\\Users\\mebin\\AppData\\Local\\Temp\\d3blocks\\sankey.html\n"
     ]
    }
   ],
   "metadata": {}
  },
  {
   "cell_type": "markdown",
   "source": [
    "# Chord Graph"
   ],
   "metadata": {}
  },
  {
   "cell_type": "code",
   "execution_count": 7,
   "source": [
    "# Initialize\r\n",
    "d3 = D3Blocks()\r\n",
    "\r\n",
    "# Import example\r\n",
    "df = d3.import_example('energy')\r\n",
    "\r\n",
    "# Link settings\r\n",
    "d3.chord(df, filepath='chord_demo.html')"
   ],
   "outputs": [
    {
     "output_type": "stream",
     "name": "stderr",
     "text": [
      "[d3blocks] >INFO> Cleaning edge_properties and config parameters..\n",
      "[d3blocks] >INFO> Extracting files..\n",
      "[d3blocks] >INFO> Import dataset: [energy]\n",
      "[d3blocks] >INFO> Cleaning edge_properties and config parameters..\n",
      "[d3blocks] >INFO> Initializing [Chord]\n",
      "[d3blocks] >INFO> filepath is set to [C:\\Users\\mebin\\AppData\\Local\\Temp\\d3blocks\\chord_demo.html]\n",
      "[d3blocks] >INFO> Convert to Frame.\n",
      "[d3blocks] >INFO> Node properties are set.\n",
      "[d3blocks] >INFO> Set edge-opacity based on the [source] node-opacity.\n",
      "[d3blocks] >INFO> Set edge-colors based on the [source] node-color.\n",
      "[d3blocks] >INFO> Edge properties are set.\n",
      "[d3blocks] >INFO> Open browser: C:\\Users\\mebin\\AppData\\Local\\Temp\\d3blocks\\chord_demo.html\n"
     ]
    }
   ],
   "metadata": {}
  },
  {
   "cell_type": "markdown",
   "source": [
    "# Timeseries"
   ],
   "metadata": {}
  },
  {
   "cell_type": "code",
   "execution_count": 9,
   "source": [
    "# Initialize\r\n",
    "d3 = D3Blocks()\r\n",
    "\r\n",
    "# Import climate dataset\r\n",
    "df = d3.import_example('climate')\r\n",
    "d3.timeseries(df, datetime='date', dt_format='%Y-%m-%d %H:%M:%S', fontsize=10)"
   ],
   "outputs": [
    {
     "output_type": "stream",
     "name": "stderr",
     "text": [
      "[d3blocks] >INFO> Cleaning edge_properties and config parameters..\n",
      "[d3blocks] >INFO> Downloading [climate] dataset from github source..\n",
      "[d3blocks] >INFO> Extracting files..\n",
      "[d3blocks] >INFO> Import dataset: [climate]\n",
      "[d3blocks] >INFO> Initializing [Timeseries]\n",
      "[d3blocks] >INFO> filepath is set to [C:\\Users\\mebin\\AppData\\Local\\Temp\\d3blocks\\timeseries.html]\n",
      "[d3blocks] >INFO> Convert to Frame.\n",
      "[d3blocks] >INFO> Node properties are set.\n",
      "[d3blocks] >INFO> Edge properties are set.\n",
      "[d3blocks] >INFO> Open browser: C:\\Users\\mebin\\AppData\\Local\\Temp\\d3blocks\\timeseries.html\n"
     ]
    }
   ],
   "metadata": {}
  },
  {
   "cell_type": "markdown",
   "source": [
    "# Moving Bubbles"
   ],
   "metadata": {}
  },
  {
   "cell_type": "code",
   "execution_count": 10,
   "source": [
    "d3 = D3Blocks()\r\n",
    "\r\n",
    "# Generate random data with various states\r\n",
    "df = d3.import_example('random_time', n=10000, c=500, date_start=\"1-1-2000 00:10:05\", date_stop=\"1-1-2001 23:59:59\")\r\n",
    "d3.movingbubbles(df,\r\n",
    "                 datetime='datetime',\r\n",
    "                 state='state',\r\n",
    "                 sample_id='sample_id',\r\n",
    "                 standardize=None,\r\n",
    "                 speed={\"slow\": 1000, \"medium\": 200, \"fast\": 10},\r\n",
    "                 cmap='Set1',\r\n",
    "                 filepath='movingbubbles.html')"
   ],
   "outputs": [
    {
     "output_type": "stream",
     "name": "stderr",
     "text": [
      "[d3blocks] >INFO> Cleaning edge_properties and config parameters..\n",
      "[d3blocks] >INFO> Cleaning edge_properties and config parameters..\n",
      "[d3blocks] >INFO> Initializing [Movingbubbles]\n",
      "[d3blocks] >INFO> filepath is set to [C:\\Users\\mebin\\AppData\\Local\\Temp\\d3blocks\\movingbubbles.html]\n",
      "[d3blocks] >INFO> Convert to Frame.\n",
      "[d3blocks] >INFO> Node properties are set.\n",
      "[d3blocks] >INFO> Standardizing input dataframe using method: [None].\n",
      "[d3blocks] >INFO> Set all nodes to size: 5\n",
      "[d3blocks] >INFO> Set all nodes to color: #808080\n",
      "[d3blocks] >INFO> Edge properties are set.\n",
      "[d3blocks] >INFO> Open browser: C:\\Users\\mebin\\AppData\\Local\\Temp\\d3blocks\\movingbubbles.html\n"
     ]
    }
   ],
   "metadata": {}
  },
  {
   "cell_type": "markdown",
   "source": [
    "# Scatter Plot"
   ],
   "metadata": {}
  },
  {
   "cell_type": "code",
   "execution_count": 11,
   "source": [
    "# Initialize\r\n",
    "d3 = D3Blocks()\r\n",
    "\r\n",
    "# import example\r\n",
    "df = d3.import_example('cancer')\r\n",
    "\r\n",
    "# Setup the tooltip\r\n",
    "tooltip=df['labels'].values + ' <br /> Survival: ' + df['survival_months'].astype(str).str[0:4].values\r\n",
    "# Set the size\r\n",
    "size = df['survival_months'].fillna(1).values / 10\r\n",
    "\r\n",
    "# Scatter\r\n",
    "d3.scatter(df['x'].values,              # tSNE x-coordinates\r\n",
    "           df['y'].values,              # tSNE y-coordinates\r\n",
    "           x1=df['PC1'].values,         # PC1 x-coordinates\r\n",
    "           y1=df['PC2'].values,         # PC2 y-coordinates\r\n",
    "           scale=True,                  # Scale\r\n",
    "           label_radio=['tSNE', 'PCA'], # Label radio button\r\n",
    "           size=size,                   # Size\r\n",
    "           color=df['labels'].values,   # Hex-colors or classlabels\r\n",
    "           stroke='#000000',            # Edge color\r\n",
    "           opacity=0.4,                 # Opacity\r\n",
    "           tooltip=tooltip,             # Tooltip\r\n",
    "           cmap='tab20',                # Colormap\r\n",
    "           filepath='c://temp//scatter_demo.html')"
   ],
   "outputs": [
    {
     "output_type": "stream",
     "name": "stderr",
     "text": [
      "[d3blocks] >INFO> Cleaning edge_properties and config parameters..\n",
      "[d3blocks] >INFO> Downloading [cancer] dataset from github source..\n",
      "[d3blocks] >INFO> Extracting files..\n",
      "[d3blocks] >INFO> Import dataset: [cancer]\n",
      "[d3blocks] >INFO> Cleaning edge_properties and config parameters..\n",
      "[d3blocks] >INFO> Initializing [Scatter]\n",
      "[d3blocks] >INFO> filepath is set to [c:\\temp\\scatter_demo.html]\n",
      "[d3blocks] >INFO> Scaling xy-coordinates.\n",
      "[d3blocks] >INFO> [12] sizes are <0 and set to 0.\n",
      "[d3blocks] >INFO> Convert to Frame.\n",
      "[d3blocks] >INFO> Edge properties are set.\n",
      "[d3blocks] >INFO> Open browser: c:\\temp\\scatter_demo.html\n"
     ]
    }
   ],
   "metadata": {}
  },
  {
   "cell_type": "markdown",
   "source": [
    "# Viloin "
   ],
   "metadata": {}
  },
  {
   "cell_type": "code",
   "execution_count": 12,
   "source": [
    "d3 = D3Blocks()\r\n",
    "\r\n",
    "# import example\r\n",
    "df = d3.import_example('cancer')\r\n",
    "\r\n",
    "# Tooltip\r\n",
    "tooltip=df['labels'].values + ' <br /> Survival: ' + df['survival_months'].astype(str).values\r\n",
    "\r\n",
    "# Make the plot\r\n",
    "d3.violin(x=df['labels'].values, # class labels on the x axis\r\n",
    "          y=df['age'].values,    # Age\r\n",
    "          tooltip=tooltip,       # Tooltip for hovering\r\n",
    "          bins=50,               # Bins used for the histogram\r\n",
    "          size=df['survival_months'].values/10, # Dotsize\r\n",
    "          x_order=['acc','kich', 'brca','lgg','blca','coad','ov'], # Keep only these classes and plot in this order.\r\n",
    "          figsize=[None, None],                                    # Figure size is automatically determined.\r\n",
    "          filepath='violine_demo.html')"
   ],
   "outputs": [
    {
     "output_type": "stream",
     "name": "stderr",
     "text": [
      "[d3blocks] >INFO> Cleaning edge_properties and config parameters..\n",
      "[d3blocks] >INFO> Extracting files..\n",
      "[d3blocks] >INFO> Import dataset: [cancer]\n",
      "[d3blocks] >INFO> Cleaning edge_properties and config parameters..\n",
      "[d3blocks] >INFO> Initializing [Violin]\n",
      "[d3blocks] >INFO> filepath is set to [C:\\Users\\mebin\\AppData\\Local\\Temp\\d3blocks\\violine_demo.html]\n",
      "[d3blocks] >INFO> Removing [564] NaN values.\n",
      "[d3blocks] >INFO> Filter on: [acc|kich|brca|lgg|blca|coad|ov]\n",
      "[d3blocks] >INFO> Number of samples: 1881\n",
      "[d3blocks] >INFO> Open browser: C:\\Users\\mebin\\AppData\\Local\\Temp\\d3blocks\\violine_demo.html\n"
     ]
    }
   ],
   "metadata": {}
  },
  {
   "cell_type": "markdown",
   "source": [
    "# Particles"
   ],
   "metadata": {}
  },
  {
   "cell_type": "code",
   "execution_count": 14,
   "source": [
    "# Initialize\r\n",
    "d3 = D3Blocks()\r\n",
    "\r\n",
    "# Make particles\r\n",
    "d3.particles('This is Cool ', collision=0.05, spacing=10, figsize=[1200, 500])"
   ],
   "outputs": [
    {
     "output_type": "stream",
     "name": "stderr",
     "text": [
      "[d3blocks] >INFO> Cleaning edge_properties and config parameters..\n",
      "[d3blocks] >INFO> filepath is set to [C:\\Users\\mebin\\AppData\\Local\\Temp\\d3blocks\\particles.html]\n",
      "[d3blocks] >INFO> File already exists and will be overwritten: [C:\\Users\\mebin\\AppData\\Local\\Temp\\d3blocks\\particles.html]\n",
      "[d3blocks] >INFO> Open browser: C:\\Users\\mebin\\AppData\\Local\\Temp\\d3blocks\\particles.html\n"
     ]
    }
   ],
   "metadata": {}
  },
  {
   "cell_type": "code",
   "execution_count": null,
   "source": [],
   "outputs": [],
   "metadata": {}
  }
 ],
 "metadata": {
  "orig_nbformat": 4,
  "language_info": {
   "name": "python",
   "version": "3.8.5",
   "mimetype": "text/x-python",
   "codemirror_mode": {
    "name": "ipython",
    "version": 3
   },
   "pygments_lexer": "ipython3",
   "nbconvert_exporter": "python",
   "file_extension": ".py"
  },
  "kernelspec": {
   "name": "python3",
   "display_name": "Python 3.8.5 64-bit ('data_science': conda)"
  },
  "interpreter": {
   "hash": "6029d919572e8bdb13bb08b672b985525bcfdef6b30164285bd19d1200a786a3"
  }
 },
 "nbformat": 4,
 "nbformat_minor": 2
}